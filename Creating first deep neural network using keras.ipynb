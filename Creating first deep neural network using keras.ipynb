{
 "cells": [
  {
   "cell_type": "markdown",
   "metadata": {},
   "source": [
    "# 5 Step Model Life-Cycle"
   ]
  },
  {
   "cell_type": "markdown",
   "metadata": {},
   "source": [
    "* Define the model\n",
    "* Compile the model\n",
    "* Fit The Model\n",
    "* Evaluate the Model\n",
    "* Make Predictions"
   ]
  },
  {
   "cell_type": "code",
   "execution_count": 1,
   "metadata": {},
   "outputs": [],
   "source": [
    "import numpy as np\n",
    "import tensorflow as tf\n",
    "from tensorflow import keras\n",
    "from tensorflow.keras import layers\n",
    "from pandas import read_csv\n",
    "from sklearn.model_selection import train_test_split\n",
    "from sklearn import preprocessing\n"
   ]
  },
  {
   "cell_type": "code",
   "execution_count": 2,
   "metadata": {},
   "outputs": [],
   "source": [
    "path=r\"C:\\Users\\isheunesu\\Downloads\\pima-indians-diabetes.data.csv\""
   ]
  },
  {
   "cell_type": "code",
   "execution_count": 3,
   "metadata": {},
   "outputs": [],
   "source": [
    "df=read_csv(path,header=None)"
   ]
  },
  {
   "cell_type": "markdown",
   "metadata": {},
   "source": [
    "* Number of times pregnant\n",
    "* Plasma glucose concentration a 2 hours in an oral glucose tolerance test\n",
    "* Diastolic blood pressure (mm Hg)\n",
    "* Triceps skin fold thickness (mm)\n",
    "* 2-Hour serum insulin (mu U/ml)\n",
    "* Body mass index (weight in kg/(height in m)^2)\n",
    "* Diabetes pedigree function\n",
    "* Age (years)"
   ]
  },
  {
   "cell_type": "code",
   "execution_count": 5,
   "metadata": {},
   "outputs": [
    {
     "data": {
      "text/html": [
       "<div>\n",
       "<style scoped>\n",
       "    .dataframe tbody tr th:only-of-type {\n",
       "        vertical-align: middle;\n",
       "    }\n",
       "\n",
       "    .dataframe tbody tr th {\n",
       "        vertical-align: top;\n",
       "    }\n",
       "\n",
       "    .dataframe thead th {\n",
       "        text-align: right;\n",
       "    }\n",
       "</style>\n",
       "<table border=\"1\" class=\"dataframe\">\n",
       "  <thead>\n",
       "    <tr style=\"text-align: right;\">\n",
       "      <th></th>\n",
       "      <th>0</th>\n",
       "      <th>1</th>\n",
       "      <th>2</th>\n",
       "      <th>3</th>\n",
       "      <th>4</th>\n",
       "      <th>5</th>\n",
       "      <th>6</th>\n",
       "      <th>7</th>\n",
       "      <th>8</th>\n",
       "    </tr>\n",
       "  </thead>\n",
       "  <tbody>\n",
       "    <tr>\n",
       "      <th>0</th>\n",
       "      <td>6</td>\n",
       "      <td>148</td>\n",
       "      <td>72</td>\n",
       "      <td>35</td>\n",
       "      <td>0</td>\n",
       "      <td>33.6</td>\n",
       "      <td>0.627</td>\n",
       "      <td>50</td>\n",
       "      <td>1</td>\n",
       "    </tr>\n",
       "    <tr>\n",
       "      <th>1</th>\n",
       "      <td>1</td>\n",
       "      <td>85</td>\n",
       "      <td>66</td>\n",
       "      <td>29</td>\n",
       "      <td>0</td>\n",
       "      <td>26.6</td>\n",
       "      <td>0.351</td>\n",
       "      <td>31</td>\n",
       "      <td>0</td>\n",
       "    </tr>\n",
       "    <tr>\n",
       "      <th>2</th>\n",
       "      <td>8</td>\n",
       "      <td>183</td>\n",
       "      <td>64</td>\n",
       "      <td>0</td>\n",
       "      <td>0</td>\n",
       "      <td>23.3</td>\n",
       "      <td>0.672</td>\n",
       "      <td>32</td>\n",
       "      <td>1</td>\n",
       "    </tr>\n",
       "    <tr>\n",
       "      <th>3</th>\n",
       "      <td>1</td>\n",
       "      <td>89</td>\n",
       "      <td>66</td>\n",
       "      <td>23</td>\n",
       "      <td>94</td>\n",
       "      <td>28.1</td>\n",
       "      <td>0.167</td>\n",
       "      <td>21</td>\n",
       "      <td>0</td>\n",
       "    </tr>\n",
       "    <tr>\n",
       "      <th>4</th>\n",
       "      <td>0</td>\n",
       "      <td>137</td>\n",
       "      <td>40</td>\n",
       "      <td>35</td>\n",
       "      <td>168</td>\n",
       "      <td>43.1</td>\n",
       "      <td>2.288</td>\n",
       "      <td>33</td>\n",
       "      <td>1</td>\n",
       "    </tr>\n",
       "  </tbody>\n",
       "</table>\n",
       "</div>"
      ],
      "text/plain": [
       "   0    1   2   3    4     5      6   7  8\n",
       "0  6  148  72  35    0  33.6  0.627  50  1\n",
       "1  1   85  66  29    0  26.6  0.351  31  0\n",
       "2  8  183  64   0    0  23.3  0.672  32  1\n",
       "3  1   89  66  23   94  28.1  0.167  21  0\n",
       "4  0  137  40  35  168  43.1  2.288  33  1"
      ]
     },
     "execution_count": 5,
     "metadata": {},
     "output_type": "execute_result"
    }
   ],
   "source": [
    "df.head()"
   ]
  },
  {
   "cell_type": "code",
   "execution_count": 6,
   "metadata": {},
   "outputs": [],
   "source": [
    "X,y=df.values[:,:-1],df.values[:,-1]"
   ]
  },
  {
   "cell_type": "code",
   "execution_count": null,
   "metadata": {},
   "outputs": [],
   "source": []
  },
  {
   "cell_type": "code",
   "execution_count": 22,
   "metadata": {},
   "outputs": [
    {
     "name": "stdout",
     "output_type": "stream",
     "text": [
      "(514, 8) (254, 8) (514,) (254,)\n"
     ]
    }
   ],
   "source": [
    "X_train,X_test,y_train,y_test=train_test_split(X,y,test_size=0.33)\n",
    "print(X_train.shape,X_test.shape,y_train.shape,y_test.shape)"
   ]
  },
  {
   "cell_type": "code",
   "execution_count": 23,
   "metadata": {},
   "outputs": [
    {
     "name": "stdout",
     "output_type": "stream",
     "text": [
      "8\n"
     ]
    }
   ],
   "source": [
    "n_features=X_train.shape[1]\n",
    "print(n_features)"
   ]
  },
  {
   "cell_type": "code",
   "execution_count": 24,
   "metadata": {},
   "outputs": [],
   "source": [
    "scaler = preprocessing.StandardScaler().fit(X_train)"
   ]
  },
  {
   "cell_type": "code",
   "execution_count": 25,
   "metadata": {},
   "outputs": [],
   "source": [
    "X_scaled_train = scaler.transform(X_train)"
   ]
  },
  {
   "cell_type": "code",
   "execution_count": 26,
   "metadata": {},
   "outputs": [],
   "source": [
    "scaler = preprocessing.StandardScaler().fit(X_test)"
   ]
  },
  {
   "cell_type": "code",
   "execution_count": 27,
   "metadata": {},
   "outputs": [],
   "source": [
    "X_scaled_test = scaler.transform(X_test)"
   ]
  },
  {
   "cell_type": "markdown",
   "metadata": {},
   "source": [
    "<img src=\"neuralnetwork.png\"/>"
   ]
  },
  {
   "cell_type": "code",
   "execution_count": 28,
   "metadata": {},
   "outputs": [],
   "source": [
    "model=keras.Sequential()\n",
    "model.add(layers.Dense(4,activation=\"relu\",input_shape=(n_features,)))\n",
    "model.add(layers.Dense(4,activation=\"relu\")),\n",
    "model.add(layers.Dense(1,activation=\"sigmoid\"))\n",
    "\n"
   ]
  },
  {
   "cell_type": "code",
   "execution_count": 29,
   "metadata": {},
   "outputs": [
    {
     "name": "stdout",
     "output_type": "stream",
     "text": [
      "Model: \"sequential_1\"\n",
      "_________________________________________________________________\n",
      "Layer (type)                 Output Shape              Param #   \n",
      "=================================================================\n",
      "dense_3 (Dense)              (None, 4)                 36        \n",
      "_________________________________________________________________\n",
      "dense_4 (Dense)              (None, 4)                 20        \n",
      "_________________________________________________________________\n",
      "dense_5 (Dense)              (None, 1)                 5         \n",
      "=================================================================\n",
      "Total params: 61\n",
      "Trainable params: 61\n",
      "Non-trainable params: 0\n",
      "_________________________________________________________________\n"
     ]
    }
   ],
   "source": [
    "model.summary()"
   ]
  },
  {
   "cell_type": "code",
   "execution_count": 30,
   "metadata": {},
   "outputs": [],
   "source": [
    "model.compile(loss='binary_crossentropy', optimizer='adam', metrics=['accuracy'])"
   ]
  },
  {
   "cell_type": "code",
   "execution_count": 31,
   "metadata": {},
   "outputs": [
    {
     "name": "stdout",
     "output_type": "stream",
     "text": [
      "Epoch 1/150\n",
      "42/42 [==============================] - 0s 4ms/step - loss: 0.7088 - accuracy: 0.3771 - val_loss: 0.7192 - val_accuracy: 0.3883\n",
      "Epoch 2/150\n",
      "42/42 [==============================] - 0s 2ms/step - loss: 0.6907 - accuracy: 0.5328 - val_loss: 0.6971 - val_accuracy: 0.5146\n",
      "Epoch 3/150\n",
      "42/42 [==============================] - 0s 1ms/step - loss: 0.6766 - accuracy: 0.6764 - val_loss: 0.6755 - val_accuracy: 0.6408\n",
      "Epoch 4/150\n",
      "42/42 [==============================] - 0s 2ms/step - loss: 0.6623 - accuracy: 0.7105 - val_loss: 0.6538 - val_accuracy: 0.6602\n",
      "Epoch 5/150\n",
      "42/42 [==============================] - 0s 1ms/step - loss: 0.6451 - accuracy: 0.7105 - val_loss: 0.6276 - val_accuracy: 0.6990\n",
      "Epoch 6/150\n",
      "42/42 [==============================] - 0s 2ms/step - loss: 0.6257 - accuracy: 0.7226 - val_loss: 0.5997 - val_accuracy: 0.6893\n",
      "Epoch 7/150\n",
      "42/42 [==============================] - 0s 2ms/step - loss: 0.6025 - accuracy: 0.7275 - val_loss: 0.5673 - val_accuracy: 0.7476\n",
      "Epoch 8/150\n",
      "42/42 [==============================] - 0s 2ms/step - loss: 0.5771 - accuracy: 0.7275 - val_loss: 0.5385 - val_accuracy: 0.7767\n",
      "Epoch 9/150\n",
      "42/42 [==============================] - 0s 2ms/step - loss: 0.5540 - accuracy: 0.7445 - val_loss: 0.5145 - val_accuracy: 0.7864\n",
      "Epoch 10/150\n",
      "42/42 [==============================] - 0s 2ms/step - loss: 0.5347 - accuracy: 0.7470 - val_loss: 0.4985 - val_accuracy: 0.7961\n",
      "Epoch 11/150\n",
      "42/42 [==============================] - 0s 2ms/step - loss: 0.5193 - accuracy: 0.7543 - val_loss: 0.4866 - val_accuracy: 0.8058\n",
      "Epoch 12/150\n",
      "42/42 [==============================] - 0s 2ms/step - loss: 0.5065 - accuracy: 0.7567 - val_loss: 0.4777 - val_accuracy: 0.8058\n",
      "Epoch 13/150\n",
      "42/42 [==============================] - 0s 2ms/step - loss: 0.4983 - accuracy: 0.7518 - val_loss: 0.4721 - val_accuracy: 0.8058\n",
      "Epoch 14/150\n",
      "42/42 [==============================] - 0s 1ms/step - loss: 0.4924 - accuracy: 0.7567 - val_loss: 0.4691 - val_accuracy: 0.8058\n",
      "Epoch 15/150\n",
      "42/42 [==============================] - 0s 2ms/step - loss: 0.4860 - accuracy: 0.7713 - val_loss: 0.4656 - val_accuracy: 0.8058\n",
      "Epoch 16/150\n",
      "42/42 [==============================] - 0s 1ms/step - loss: 0.4810 - accuracy: 0.7689 - val_loss: 0.4620 - val_accuracy: 0.8155\n",
      "Epoch 17/150\n",
      "42/42 [==============================] - 0s 2ms/step - loss: 0.4766 - accuracy: 0.7762 - val_loss: 0.4600 - val_accuracy: 0.8155\n",
      "Epoch 18/150\n",
      "42/42 [==============================] - 0s 1ms/step - loss: 0.4727 - accuracy: 0.7762 - val_loss: 0.4593 - val_accuracy: 0.8252\n",
      "Epoch 19/150\n",
      "42/42 [==============================] - 0s 2ms/step - loss: 0.4696 - accuracy: 0.7786 - val_loss: 0.4580 - val_accuracy: 0.8350\n",
      "Epoch 20/150\n",
      "42/42 [==============================] - 0s 2ms/step - loss: 0.4661 - accuracy: 0.7835 - val_loss: 0.4572 - val_accuracy: 0.8350\n",
      "Epoch 21/150\n",
      "42/42 [==============================] - 0s 2ms/step - loss: 0.4633 - accuracy: 0.7883 - val_loss: 0.4559 - val_accuracy: 0.8350\n",
      "Epoch 22/150\n",
      "42/42 [==============================] - 0s 1ms/step - loss: 0.4613 - accuracy: 0.7932 - val_loss: 0.4554 - val_accuracy: 0.8350\n",
      "Epoch 23/150\n",
      "42/42 [==============================] - 0s 2ms/step - loss: 0.4593 - accuracy: 0.7932 - val_loss: 0.4547 - val_accuracy: 0.8252\n",
      "Epoch 24/150\n",
      "42/42 [==============================] - 0s 2ms/step - loss: 0.4584 - accuracy: 0.7908 - val_loss: 0.4532 - val_accuracy: 0.8252\n",
      "Epoch 25/150\n",
      "42/42 [==============================] - 0s 1ms/step - loss: 0.4560 - accuracy: 0.7932 - val_loss: 0.4532 - val_accuracy: 0.8155\n",
      "Epoch 26/150\n",
      "42/42 [==============================] - 0s 2ms/step - loss: 0.4544 - accuracy: 0.7932 - val_loss: 0.4526 - val_accuracy: 0.8155\n",
      "Epoch 27/150\n",
      "42/42 [==============================] - 0s 1ms/step - loss: 0.4527 - accuracy: 0.7956 - val_loss: 0.4517 - val_accuracy: 0.8155\n",
      "Epoch 28/150\n",
      "42/42 [==============================] - 0s 2ms/step - loss: 0.4513 - accuracy: 0.7956 - val_loss: 0.4500 - val_accuracy: 0.8155\n",
      "Epoch 29/150\n",
      "42/42 [==============================] - 0s 1ms/step - loss: 0.4502 - accuracy: 0.7932 - val_loss: 0.4485 - val_accuracy: 0.8155\n",
      "Epoch 30/150\n",
      "42/42 [==============================] - 0s 2ms/step - loss: 0.4492 - accuracy: 0.7956 - val_loss: 0.4500 - val_accuracy: 0.8155\n",
      "Epoch 31/150\n",
      "42/42 [==============================] - 0s 2ms/step - loss: 0.4480 - accuracy: 0.7956 - val_loss: 0.4498 - val_accuracy: 0.8155\n",
      "Epoch 32/150\n",
      "42/42 [==============================] - 0s 1ms/step - loss: 0.4467 - accuracy: 0.7932 - val_loss: 0.4482 - val_accuracy: 0.8155\n",
      "Epoch 33/150\n",
      "42/42 [==============================] - 0s 2ms/step - loss: 0.4457 - accuracy: 0.7908 - val_loss: 0.4479 - val_accuracy: 0.8155\n",
      "Epoch 34/150\n",
      "42/42 [==============================] - 0s 1ms/step - loss: 0.4443 - accuracy: 0.7932 - val_loss: 0.4489 - val_accuracy: 0.8058\n",
      "Epoch 35/150\n",
      "42/42 [==============================] - 0s 2ms/step - loss: 0.4434 - accuracy: 0.7908 - val_loss: 0.4486 - val_accuracy: 0.8058\n",
      "Epoch 36/150\n",
      "42/42 [==============================] - 0s 2ms/step - loss: 0.4426 - accuracy: 0.7956 - val_loss: 0.4482 - val_accuracy: 0.8058\n",
      "Epoch 37/150\n",
      "42/42 [==============================] - 0s 2ms/step - loss: 0.4414 - accuracy: 0.7981 - val_loss: 0.4471 - val_accuracy: 0.8058\n",
      "Epoch 38/150\n",
      "42/42 [==============================] - 0s 1ms/step - loss: 0.4410 - accuracy: 0.7981 - val_loss: 0.4462 - val_accuracy: 0.8058\n",
      "Epoch 39/150\n",
      "42/42 [==============================] - 0s 2ms/step - loss: 0.4400 - accuracy: 0.8029 - val_loss: 0.4466 - val_accuracy: 0.8058\n",
      "Epoch 40/150\n",
      "42/42 [==============================] - 0s 2ms/step - loss: 0.4391 - accuracy: 0.8029 - val_loss: 0.4468 - val_accuracy: 0.8058\n",
      "Epoch 41/150\n",
      "42/42 [==============================] - 0s 2ms/step - loss: 0.4386 - accuracy: 0.8029 - val_loss: 0.4466 - val_accuracy: 0.8058\n",
      "Epoch 42/150\n",
      "42/42 [==============================] - 0s 2ms/step - loss: 0.4377 - accuracy: 0.8005 - val_loss: 0.4460 - val_accuracy: 0.8058\n",
      "Epoch 43/150\n",
      "42/42 [==============================] - 0s 2ms/step - loss: 0.4365 - accuracy: 0.8005 - val_loss: 0.4464 - val_accuracy: 0.8058\n",
      "Epoch 44/150\n",
      "42/42 [==============================] - 0s 2ms/step - loss: 0.4357 - accuracy: 0.8005 - val_loss: 0.4461 - val_accuracy: 0.8058\n",
      "Epoch 45/150\n",
      "42/42 [==============================] - 0s 2ms/step - loss: 0.4350 - accuracy: 0.8005 - val_loss: 0.4462 - val_accuracy: 0.8058\n",
      "Epoch 46/150\n",
      "42/42 [==============================] - 0s 2ms/step - loss: 0.4345 - accuracy: 0.8029 - val_loss: 0.4448 - val_accuracy: 0.7961\n",
      "Epoch 47/150\n",
      "42/42 [==============================] - 0s 2ms/step - loss: 0.4342 - accuracy: 0.8078 - val_loss: 0.4451 - val_accuracy: 0.8058\n",
      "Epoch 48/150\n",
      "42/42 [==============================] - 0s 1ms/step - loss: 0.4325 - accuracy: 0.8078 - val_loss: 0.4448 - val_accuracy: 0.8058\n",
      "Epoch 49/150\n",
      "42/42 [==============================] - 0s 2ms/step - loss: 0.4316 - accuracy: 0.8054 - val_loss: 0.4435 - val_accuracy: 0.8058\n",
      "Epoch 50/150\n",
      "42/42 [==============================] - 0s 2ms/step - loss: 0.4305 - accuracy: 0.8054 - val_loss: 0.4434 - val_accuracy: 0.8058\n",
      "Epoch 51/150\n",
      "42/42 [==============================] - 0s 2ms/step - loss: 0.4297 - accuracy: 0.8054 - val_loss: 0.4430 - val_accuracy: 0.8155\n",
      "Epoch 52/150\n",
      "42/42 [==============================] - 0s 2ms/step - loss: 0.4287 - accuracy: 0.8102 - val_loss: 0.4431 - val_accuracy: 0.8058\n",
      "Epoch 53/150\n",
      "42/42 [==============================] - 0s 2ms/step - loss: 0.4284 - accuracy: 0.8078 - val_loss: 0.4438 - val_accuracy: 0.8058\n",
      "Epoch 54/150\n",
      "42/42 [==============================] - 0s 1ms/step - loss: 0.4277 - accuracy: 0.8054 - val_loss: 0.4440 - val_accuracy: 0.8058\n",
      "Epoch 55/150\n",
      "42/42 [==============================] - 0s 2ms/step - loss: 0.4265 - accuracy: 0.8054 - val_loss: 0.4443 - val_accuracy: 0.8155\n",
      "Epoch 56/150\n",
      "42/42 [==============================] - 0s 1ms/step - loss: 0.4261 - accuracy: 0.8029 - val_loss: 0.4453 - val_accuracy: 0.8155\n",
      "Epoch 57/150\n",
      "42/42 [==============================] - 0s 2ms/step - loss: 0.4255 - accuracy: 0.8029 - val_loss: 0.4456 - val_accuracy: 0.8155\n",
      "Epoch 58/150\n",
      "42/42 [==============================] - 0s 2ms/step - loss: 0.4251 - accuracy: 0.7981 - val_loss: 0.4465 - val_accuracy: 0.8155\n"
     ]
    },
    {
     "name": "stdout",
     "output_type": "stream",
     "text": [
      "Epoch 59/150\n",
      "42/42 [==============================] - 0s 1ms/step - loss: 0.4248 - accuracy: 0.7981 - val_loss: 0.4465 - val_accuracy: 0.8155\n",
      "Epoch 60/150\n",
      "42/42 [==============================] - 0s 1ms/step - loss: 0.4246 - accuracy: 0.8005 - val_loss: 0.4471 - val_accuracy: 0.8155\n",
      "Epoch 61/150\n",
      "42/42 [==============================] - 0s 1ms/step - loss: 0.4237 - accuracy: 0.8054 - val_loss: 0.4472 - val_accuracy: 0.8155\n",
      "Epoch 62/150\n",
      "42/42 [==============================] - 0s 1ms/step - loss: 0.4234 - accuracy: 0.8005 - val_loss: 0.4472 - val_accuracy: 0.8155\n",
      "Epoch 63/150\n",
      "42/42 [==============================] - 0s 1ms/step - loss: 0.4227 - accuracy: 0.8005 - val_loss: 0.4477 - val_accuracy: 0.8155\n",
      "Epoch 64/150\n",
      "42/42 [==============================] - 0s 1ms/step - loss: 0.4228 - accuracy: 0.8054 - val_loss: 0.4470 - val_accuracy: 0.8155\n",
      "Epoch 65/150\n",
      "42/42 [==============================] - 0s 1ms/step - loss: 0.4226 - accuracy: 0.8029 - val_loss: 0.4478 - val_accuracy: 0.8155\n",
      "Epoch 66/150\n",
      "42/42 [==============================] - 0s 1ms/step - loss: 0.4220 - accuracy: 0.8029 - val_loss: 0.4484 - val_accuracy: 0.8155\n",
      "Epoch 67/150\n",
      "42/42 [==============================] - 0s 1ms/step - loss: 0.4223 - accuracy: 0.8029 - val_loss: 0.4480 - val_accuracy: 0.8155\n",
      "Epoch 68/150\n",
      "42/42 [==============================] - 0s 1ms/step - loss: 0.4210 - accuracy: 0.8029 - val_loss: 0.4492 - val_accuracy: 0.8155\n",
      "Epoch 69/150\n",
      "42/42 [==============================] - 0s 1ms/step - loss: 0.4216 - accuracy: 0.8054 - val_loss: 0.4511 - val_accuracy: 0.8155\n",
      "Epoch 70/150\n",
      "42/42 [==============================] - 0s 1ms/step - loss: 0.4214 - accuracy: 0.8029 - val_loss: 0.4509 - val_accuracy: 0.8155\n",
      "Epoch 71/150\n",
      "42/42 [==============================] - 0s 1ms/step - loss: 0.4209 - accuracy: 0.8054 - val_loss: 0.4510 - val_accuracy: 0.8155\n",
      "Epoch 72/150\n",
      "42/42 [==============================] - 0s 1ms/step - loss: 0.4204 - accuracy: 0.8054 - val_loss: 0.4514 - val_accuracy: 0.8155\n",
      "Epoch 73/150\n",
      "42/42 [==============================] - 0s 1ms/step - loss: 0.4204 - accuracy: 0.8054 - val_loss: 0.4515 - val_accuracy: 0.8155\n",
      "Epoch 74/150\n",
      "42/42 [==============================] - 0s 1ms/step - loss: 0.4203 - accuracy: 0.8029 - val_loss: 0.4513 - val_accuracy: 0.8058\n",
      "Epoch 75/150\n",
      "42/42 [==============================] - 0s 1ms/step - loss: 0.4200 - accuracy: 0.8102 - val_loss: 0.4518 - val_accuracy: 0.8058\n",
      "Epoch 76/150\n",
      "42/42 [==============================] - 0s 1ms/step - loss: 0.4194 - accuracy: 0.8029 - val_loss: 0.4517 - val_accuracy: 0.8058\n",
      "Epoch 77/150\n",
      "42/42 [==============================] - 0s 1ms/step - loss: 0.4191 - accuracy: 0.8102 - val_loss: 0.4501 - val_accuracy: 0.7961\n",
      "Epoch 78/150\n",
      "42/42 [==============================] - 0s 1ms/step - loss: 0.4194 - accuracy: 0.8127 - val_loss: 0.4488 - val_accuracy: 0.7961\n",
      "Epoch 79/150\n",
      "42/42 [==============================] - 0s 1ms/step - loss: 0.4192 - accuracy: 0.8151 - val_loss: 0.4494 - val_accuracy: 0.8058\n",
      "Epoch 80/150\n",
      "42/42 [==============================] - 0s 1ms/step - loss: 0.4189 - accuracy: 0.8102 - val_loss: 0.4499 - val_accuracy: 0.8058\n",
      "Epoch 81/150\n",
      "42/42 [==============================] - 0s 1ms/step - loss: 0.4188 - accuracy: 0.8102 - val_loss: 0.4503 - val_accuracy: 0.8058\n",
      "Epoch 82/150\n",
      "42/42 [==============================] - 0s 1ms/step - loss: 0.4186 - accuracy: 0.8127 - val_loss: 0.4509 - val_accuracy: 0.8058\n",
      "Epoch 83/150\n",
      "42/42 [==============================] - 0s 1ms/step - loss: 0.4182 - accuracy: 0.8078 - val_loss: 0.4519 - val_accuracy: 0.8058\n",
      "Epoch 84/150\n",
      "42/42 [==============================] - 0s 1ms/step - loss: 0.4184 - accuracy: 0.8102 - val_loss: 0.4519 - val_accuracy: 0.8058\n",
      "Epoch 85/150\n",
      "42/42 [==============================] - 0s 1ms/step - loss: 0.4180 - accuracy: 0.8054 - val_loss: 0.4527 - val_accuracy: 0.8058\n",
      "Epoch 86/150\n",
      "42/42 [==============================] - 0s 1ms/step - loss: 0.4180 - accuracy: 0.8102 - val_loss: 0.4508 - val_accuracy: 0.8058\n",
      "Epoch 87/150\n",
      "42/42 [==============================] - 0s 2ms/step - loss: 0.4181 - accuracy: 0.8054 - val_loss: 0.4514 - val_accuracy: 0.8058\n",
      "Epoch 88/150\n",
      "42/42 [==============================] - 0s 1ms/step - loss: 0.4175 - accuracy: 0.8054 - val_loss: 0.4512 - val_accuracy: 0.8058\n",
      "Epoch 89/150\n",
      "42/42 [==============================] - 0s 1ms/step - loss: 0.4178 - accuracy: 0.8078 - val_loss: 0.4510 - val_accuracy: 0.8058\n",
      "Epoch 90/150\n",
      "42/42 [==============================] - 0s 1ms/step - loss: 0.4175 - accuracy: 0.8078 - val_loss: 0.4514 - val_accuracy: 0.8058\n",
      "Epoch 91/150\n",
      "42/42 [==============================] - 0s 1ms/step - loss: 0.4172 - accuracy: 0.8078 - val_loss: 0.4520 - val_accuracy: 0.8058\n",
      "Epoch 92/150\n",
      "42/42 [==============================] - 0s 2ms/step - loss: 0.4175 - accuracy: 0.8078 - val_loss: 0.4520 - val_accuracy: 0.8058\n",
      "Epoch 93/150\n",
      "42/42 [==============================] - 0s 2ms/step - loss: 0.4172 - accuracy: 0.8078 - val_loss: 0.4525 - val_accuracy: 0.8058\n",
      "Epoch 94/150\n",
      "42/42 [==============================] - 0s 2ms/step - loss: 0.4172 - accuracy: 0.8078 - val_loss: 0.4529 - val_accuracy: 0.8058\n",
      "Epoch 95/150\n",
      "42/42 [==============================] - 0s 1ms/step - loss: 0.4169 - accuracy: 0.8127 - val_loss: 0.4528 - val_accuracy: 0.8155\n",
      "Epoch 96/150\n",
      "42/42 [==============================] - 0s 2ms/step - loss: 0.4172 - accuracy: 0.8127 - val_loss: 0.4532 - val_accuracy: 0.8155\n",
      "Epoch 97/150\n",
      "42/42 [==============================] - 0s 1ms/step - loss: 0.4169 - accuracy: 0.8102 - val_loss: 0.4532 - val_accuracy: 0.8155\n",
      "Epoch 98/150\n",
      "42/42 [==============================] - 0s 2ms/step - loss: 0.4166 - accuracy: 0.8127 - val_loss: 0.4535 - val_accuracy: 0.8155\n",
      "Epoch 99/150\n",
      "42/42 [==============================] - 0s 1ms/step - loss: 0.4162 - accuracy: 0.8102 - val_loss: 0.4538 - val_accuracy: 0.8155\n",
      "Epoch 100/150\n",
      "42/42 [==============================] - 0s 1ms/step - loss: 0.4166 - accuracy: 0.8102 - val_loss: 0.4538 - val_accuracy: 0.8155\n",
      "Epoch 101/150\n",
      "42/42 [==============================] - 0s 1ms/step - loss: 0.4167 - accuracy: 0.8102 - val_loss: 0.4534 - val_accuracy: 0.8155\n",
      "Epoch 102/150\n",
      "42/42 [==============================] - 0s 2ms/step - loss: 0.4162 - accuracy: 0.8102 - val_loss: 0.4536 - val_accuracy: 0.8155\n",
      "Epoch 103/150\n",
      "42/42 [==============================] - 0s 2ms/step - loss: 0.4159 - accuracy: 0.8102 - val_loss: 0.4541 - val_accuracy: 0.8155\n",
      "Epoch 104/150\n",
      "42/42 [==============================] - 0s 2ms/step - loss: 0.4158 - accuracy: 0.8127 - val_loss: 0.4545 - val_accuracy: 0.8155\n",
      "Epoch 105/150\n",
      "42/42 [==============================] - 0s 2ms/step - loss: 0.4160 - accuracy: 0.8127 - val_loss: 0.4549 - val_accuracy: 0.8155\n",
      "Epoch 106/150\n",
      "42/42 [==============================] - 0s 1ms/step - loss: 0.4161 - accuracy: 0.8127 - val_loss: 0.4550 - val_accuracy: 0.8155\n",
      "Epoch 107/150\n",
      "42/42 [==============================] - 0s 1ms/step - loss: 0.4157 - accuracy: 0.8127 - val_loss: 0.4555 - val_accuracy: 0.8155\n",
      "Epoch 108/150\n",
      "42/42 [==============================] - 0s 1ms/step - loss: 0.4157 - accuracy: 0.8127 - val_loss: 0.4547 - val_accuracy: 0.8058\n",
      "Epoch 109/150\n",
      "42/42 [==============================] - 0s 1ms/step - loss: 0.4155 - accuracy: 0.8054 - val_loss: 0.4560 - val_accuracy: 0.8058\n",
      "Epoch 110/150\n",
      "42/42 [==============================] - 0s 1ms/step - loss: 0.4156 - accuracy: 0.8078 - val_loss: 0.4561 - val_accuracy: 0.8058\n",
      "Epoch 111/150\n",
      "42/42 [==============================] - 0s 2ms/step - loss: 0.4154 - accuracy: 0.8151 - val_loss: 0.4561 - val_accuracy: 0.8058\n",
      "Epoch 112/150\n",
      "42/42 [==============================] - 0s 1ms/step - loss: 0.4151 - accuracy: 0.8127 - val_loss: 0.4563 - val_accuracy: 0.8058\n",
      "Epoch 113/150\n",
      "42/42 [==============================] - 0s 2ms/step - loss: 0.4156 - accuracy: 0.8078 - val_loss: 0.4553 - val_accuracy: 0.8058\n",
      "Epoch 114/150\n",
      "42/42 [==============================] - 0s 1ms/step - loss: 0.4149 - accuracy: 0.8127 - val_loss: 0.4564 - val_accuracy: 0.8058\n",
      "Epoch 115/150\n",
      "42/42 [==============================] - 0s 2ms/step - loss: 0.4147 - accuracy: 0.8127 - val_loss: 0.4562 - val_accuracy: 0.8058\n",
      "Epoch 116/150\n"
     ]
    },
    {
     "name": "stdout",
     "output_type": "stream",
     "text": [
      "42/42 [==============================] - 0s 2ms/step - loss: 0.4151 - accuracy: 0.8054 - val_loss: 0.4554 - val_accuracy: 0.8058\n",
      "Epoch 117/150\n",
      "42/42 [==============================] - 0s 1ms/step - loss: 0.4151 - accuracy: 0.8078 - val_loss: 0.4564 - val_accuracy: 0.8058\n",
      "Epoch 118/150\n",
      "42/42 [==============================] - 0s 1ms/step - loss: 0.4145 - accuracy: 0.8029 - val_loss: 0.4556 - val_accuracy: 0.8058\n",
      "Epoch 119/150\n",
      "42/42 [==============================] - 0s 1ms/step - loss: 0.4144 - accuracy: 0.8078 - val_loss: 0.4567 - val_accuracy: 0.8058\n",
      "Epoch 120/150\n",
      "42/42 [==============================] - 0s 1ms/step - loss: 0.4145 - accuracy: 0.8127 - val_loss: 0.4569 - val_accuracy: 0.8058\n",
      "Epoch 121/150\n",
      "42/42 [==============================] - 0s 1ms/step - loss: 0.4144 - accuracy: 0.8102 - val_loss: 0.4568 - val_accuracy: 0.8058\n",
      "Epoch 122/150\n",
      "42/42 [==============================] - 0s 1ms/step - loss: 0.4143 - accuracy: 0.8102 - val_loss: 0.4561 - val_accuracy: 0.8058\n",
      "Epoch 123/150\n",
      "42/42 [==============================] - 0s 1ms/step - loss: 0.4142 - accuracy: 0.8102 - val_loss: 0.4572 - val_accuracy: 0.8058\n",
      "Epoch 124/150\n",
      "42/42 [==============================] - 0s 1ms/step - loss: 0.4141 - accuracy: 0.8054 - val_loss: 0.4568 - val_accuracy: 0.8058\n",
      "Epoch 125/150\n",
      "42/42 [==============================] - 0s 2ms/step - loss: 0.4139 - accuracy: 0.8127 - val_loss: 0.4568 - val_accuracy: 0.8058\n",
      "Epoch 126/150\n",
      "42/42 [==============================] - 0s 2ms/step - loss: 0.4138 - accuracy: 0.8151 - val_loss: 0.4570 - val_accuracy: 0.8058\n",
      "Epoch 127/150\n",
      "42/42 [==============================] - 0s 2ms/step - loss: 0.4138 - accuracy: 0.8102 - val_loss: 0.4565 - val_accuracy: 0.8058\n",
      "Epoch 128/150\n",
      "42/42 [==============================] - 0s 2ms/step - loss: 0.4136 - accuracy: 0.8078 - val_loss: 0.4550 - val_accuracy: 0.7961\n",
      "Epoch 129/150\n",
      "42/42 [==============================] - 0s 1ms/step - loss: 0.4135 - accuracy: 0.8127 - val_loss: 0.4548 - val_accuracy: 0.8058\n",
      "Epoch 130/150\n",
      "42/42 [==============================] - 0s 1ms/step - loss: 0.4137 - accuracy: 0.8102 - val_loss: 0.4547 - val_accuracy: 0.8058\n",
      "Epoch 131/150\n",
      "42/42 [==============================] - 0s 2ms/step - loss: 0.4136 - accuracy: 0.8127 - val_loss: 0.4550 - val_accuracy: 0.8058\n",
      "Epoch 132/150\n",
      "42/42 [==============================] - 0s 2ms/step - loss: 0.4135 - accuracy: 0.8151 - val_loss: 0.4546 - val_accuracy: 0.8058\n",
      "Epoch 133/150\n",
      "42/42 [==============================] - 0s 2ms/step - loss: 0.4133 - accuracy: 0.8102 - val_loss: 0.4546 - val_accuracy: 0.8058\n",
      "Epoch 134/150\n",
      "42/42 [==============================] - 0s 1ms/step - loss: 0.4127 - accuracy: 0.8151 - val_loss: 0.4550 - val_accuracy: 0.8155\n",
      "Epoch 135/150\n",
      "42/42 [==============================] - 0s 1ms/step - loss: 0.4128 - accuracy: 0.8102 - val_loss: 0.4556 - val_accuracy: 0.8058\n",
      "Epoch 136/150\n",
      "42/42 [==============================] - 0s 2ms/step - loss: 0.4133 - accuracy: 0.8078 - val_loss: 0.4560 - val_accuracy: 0.8058\n",
      "Epoch 137/150\n",
      "42/42 [==============================] - 0s 2ms/step - loss: 0.4125 - accuracy: 0.8078 - val_loss: 0.4552 - val_accuracy: 0.8058\n",
      "Epoch 138/150\n",
      "42/42 [==============================] - 0s 1ms/step - loss: 0.4126 - accuracy: 0.8078 - val_loss: 0.4549 - val_accuracy: 0.8058\n",
      "Epoch 139/150\n",
      "42/42 [==============================] - 0s 1ms/step - loss: 0.4123 - accuracy: 0.8078 - val_loss: 0.4551 - val_accuracy: 0.8058\n",
      "Epoch 140/150\n",
      "42/42 [==============================] - 0s 1ms/step - loss: 0.4118 - accuracy: 0.8127 - val_loss: 0.4557 - val_accuracy: 0.8155\n",
      "Epoch 141/150\n",
      "42/42 [==============================] - 0s 1ms/step - loss: 0.4117 - accuracy: 0.8102 - val_loss: 0.4577 - val_accuracy: 0.8058\n",
      "Epoch 142/150\n",
      "42/42 [==============================] - 0s 3ms/step - loss: 0.4121 - accuracy: 0.8102 - val_loss: 0.4591 - val_accuracy: 0.8058\n",
      "Epoch 143/150\n",
      "42/42 [==============================] - 0s 1ms/step - loss: 0.4122 - accuracy: 0.8102 - val_loss: 0.4584 - val_accuracy: 0.8058\n",
      "Epoch 144/150\n",
      "42/42 [==============================] - 0s 1ms/step - loss: 0.4120 - accuracy: 0.8102 - val_loss: 0.4575 - val_accuracy: 0.8058\n",
      "Epoch 145/150\n",
      "42/42 [==============================] - 0s 1ms/step - loss: 0.4118 - accuracy: 0.8102 - val_loss: 0.4575 - val_accuracy: 0.8155\n",
      "Epoch 146/150\n",
      "42/42 [==============================] - 0s 1ms/step - loss: 0.4114 - accuracy: 0.8102 - val_loss: 0.4574 - val_accuracy: 0.8155\n",
      "Epoch 147/150\n",
      "42/42 [==============================] - 0s 1ms/step - loss: 0.4115 - accuracy: 0.8102 - val_loss: 0.4571 - val_accuracy: 0.8155\n",
      "Epoch 148/150\n",
      "42/42 [==============================] - 0s 1ms/step - loss: 0.4113 - accuracy: 0.8102 - val_loss: 0.4575 - val_accuracy: 0.8155\n",
      "Epoch 149/150\n",
      "42/42 [==============================] - 0s 1ms/step - loss: 0.4109 - accuracy: 0.8102 - val_loss: 0.4576 - val_accuracy: 0.8155\n",
      "Epoch 150/150\n",
      "42/42 [==============================] - 0s 1ms/step - loss: 0.4111 - accuracy: 0.8127 - val_loss: 0.4570 - val_accuracy: 0.8058\n"
     ]
    },
    {
     "data": {
      "text/plain": [
       "<keras.callbacks.History at 0x161254da550>"
      ]
     },
     "execution_count": 31,
     "metadata": {},
     "output_type": "execute_result"
    }
   ],
   "source": [
    "\n",
    "4\n",
    "...\n",
    "# fit the keras model on the dataset\n",
    "model.fit(X_scaled_train, y_train, epochs=150, batch_size=10,validation_split=0.2)"
   ]
  },
  {
   "cell_type": "code",
   "execution_count": 34,
   "metadata": {},
   "outputs": [
    {
     "name": "stdout",
     "output_type": "stream",
     "text": [
      "8/8 [==============================] - 0s 1ms/step - loss: 0.5639 - accuracy: 0.7008\n",
      "Accuracy: 70.08\n"
     ]
    }
   ],
   "source": [
    "_, accuracy = model.evaluate(X_scaled_test, y_test)\n",
    "print('Accuracy: %.2f' % (accuracy*100))"
   ]
  },
  {
   "cell_type": "code",
   "execution_count": 35,
   "metadata": {},
   "outputs": [],
   "source": [
    "predictions = model.predict(X)\n",
    "# round predictions \n",
    "rounded = [round(x[0]) for x in predictions]"
   ]
  },
  {
   "cell_type": "code",
   "execution_count": null,
   "metadata": {
    "scrolled": true
   },
   "outputs": [],
   "source": [
    "# make class predictions with the model\n",
    "predictions = model.predict(X)"
   ]
  },
  {
   "cell_type": "code",
   "execution_count": null,
   "metadata": {},
   "outputs": [],
   "source": []
  }
 ],
 "metadata": {
  "kernelspec": {
   "display_name": "Python 3",
   "language": "python",
   "name": "python3"
  },
  "language_info": {
   "codemirror_mode": {
    "name": "ipython",
    "version": 3
   },
   "file_extension": ".py",
   "mimetype": "text/x-python",
   "name": "python",
   "nbconvert_exporter": "python",
   "pygments_lexer": "ipython3",
   "version": "3.7.3"
  }
 },
 "nbformat": 4,
 "nbformat_minor": 2
}
